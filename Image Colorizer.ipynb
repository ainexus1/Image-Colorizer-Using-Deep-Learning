{
 "cells": [
  {
   "cell_type": "code",
   "execution_count": null,
   "id": "ffe49821-ff36-450c-ae43-06b6f1f6e4b0",
   "metadata": {},
   "outputs": [],
   "source": [
    "import pandas as pd\n",
    "import numpy as np\n",
    "import matplotlib.pyplot as plt\n",
    "import shutil\n",
    "import os\n",
    "\n",
    "from skimage.color import rgb2lab, lab2rgb\n",
    "from skimage.io import imread, imshow"
   ]
  },
  {
   "cell_type": "code",
   "execution_count": null,
   "id": "b1c541ae-06fb-4899-bd45-6d8e27d100da",
   "metadata": {},
   "outputs": [],
   "source": [
    "TRAIN_ROOT_DIR = \"/images/training_set\" #route for training set of the dataset\n",
    "DEST = \"/train/images\" #image folder of the dataset\n",
    "\n",
    "if not os.path.exists(DEST):\n",
    "  os.makedirs(DEST)\n",
    "\n",
    "  for dir in os.listdir(TRAIN_ROOT_DIR):\n",
    "    for img in os.listdir(os.path.join(TRAIN_ROOT_DIR, dir)):\n",
    "      ORG = os.path.join(TRAIN_ROOT_DIR, dir, img)\n",
    "\n",
    "      try:\n",
    "        imread(ORG)\n",
    "        shutil.copy(ORG, DEST)\n",
    "      except:\n",
    "        print(f\"the image at {ORG} cannot be used\")"
   ]
  },
  {
   "cell_type": "code",
   "execution_count": null,
   "id": "df5f058e-8b39-4a1a-8e13-a7897e1fde96",
   "metadata": {},
   "outputs": [],
   "source": [
    "len(os.listdir(\"/train/images\"))"
   ]
  },
  {
   "cell_type": "code",
   "execution_count": null,
   "id": "84681c52-bb39-4f40-be93-5d7843549156",
   "metadata": {},
   "outputs": [],
   "source": [
    "from tensorflow.keras.preprocessing.image import ImageDataGenerator\n",
    "\n",
    "train_datagen = ImageDataGenerator(featurewise_center=True, \n",
    "                                   rotation_range=40, \n",
    "                                   horizontal_flip=True, \n",
    "                                   vertical_flip = True,\n",
    "                                   rescale = 1/255)"
   ]
  },
  {
   "cell_type": "code",
   "execution_count": null,
   "id": "02aa705b-635c-4297-8257-bbf7f03bdc42",
   "metadata": {},
   "outputs": [],
   "source": [
    "train = train_datagen.flow_from_directory(\"dataset_updated\\\\train\", target_size = (256, 256), batch_size= 1500, shuffle=True)"
   ]
  },
  {
   "cell_type": "markdown",
   "id": "cb29faf0-e6aa-43e1-a9ef-7a9031b84541",
   "metadata": {},
   "source": [
    "# Visualization"
   ]
  },
  {
   "cell_type": "code",
   "execution_count": null,
   "id": "4fa4d762-3ba6-4b78-9014-870059ac7a85",
   "metadata": {},
   "outputs": [],
   "source": [
    "t_img , label = train.next()\n",
    "\n",
    "def plotimage(img_arr, label):\n",
    "    \"\"\"\n",
    "    input:image array\n",
    "    output:plots the image\n",
    "    \"\"\"\n",
    "    plt.figure(figsize=(5, 5))\n",
    "    for im, l in zip(img_arr, label):\n",
    "        plt.imshow(im)\n",
    "        plt.title(im.shape)\n",
    "        plt.axis('off')\n",
    "        plt.show()"
   ]
  },
  {
   "cell_type": "code",
   "execution_count": null,
   "id": "0eea20f2-52bd-4a7b-97bf-22d9664acd20",
   "metadata": {},
   "outputs": [],
   "source": [
    "x = []\n",
    "y = []"
   ]
  },
  {
   "cell_type": "code",
   "execution_count": null,
   "id": "ec7cedfc-23a5-4be6-b988-a7e3ec8c1386",
   "metadata": {},
   "outputs": [],
   "source": [
    "from skimage.color import rgb2lab\n",
    "\n",
    "for image in t_img:\n",
    "    try:\n",
    "        lab = rgb2lab(image)\n",
    "        x.append(lab[:, :, 0])\n",
    "        y.append(lab[:, :, 1:] / 128)\n",
    "    except Exception as e:\n",
    "        print('Error:', e)"
   ]
  },
  {
   "cell_type": "code",
   "execution_count": null,
   "id": "51d3767d-9a79-45aa-9b35-f462f8b93cfc",
   "metadata": {},
   "outputs": [],
   "source": [
    "x_train = np.array(x)\n",
    "x_train = np.expand_dims(x_train, axis =len(x_train.shape))\n",
    "\n",
    "y_train = np.array(y)\n",
    "x_train.shape, y_train.shape"
   ]
  },
  {
   "cell_type": "markdown",
   "id": "4e3a62cd-de5b-4526-b33e-68480402a302",
   "metadata": {},
   "source": [
    "# Build Encoder Decoder Model"
   ]
  },
  {
   "cell_type": "code",
   "execution_count": null,
   "id": "a2ea0b41-4c12-4a51-9a4f-d62e11aa3640",
   "metadata": {},
   "outputs": [],
   "source": [
    "from keras.layers import Conv2D, MaxPool2D, UpSampling2D, Input, LeakyReLU\n",
    "from keras.models import Sequential\n",
    "\n",
    "model = Sequential()\n",
    "model.add(Conv2D(64,(3,3), activation='relu', padding='same', strides=2, input_shape=(256, 256, 1)))\n",
    "model.add(Conv2D(128,(3, 3), activation='relu', padding='same'))\n",
    "model.add(Conv2D(128,(3, 3), activation='relu', padding='same', strides=2))\n",
    "model.add(Conv2D(256,(3, 3), activation='relu', padding='same'))\n",
    "model.add(Conv2D(256,(3, 3), activation='relu', padding='same', strides=2))\n",
    "model.add(Conv2D(512,(3, 3), activation='relu', padding='same'))\n",
    "model.add(Conv2D(512,(3, 3), activation='relu', padding='same'))\n",
    "model.add(Conv2D(256,(3, 3), activation='relu', padding='same'))\n",
    "\n",
    "model.add(Conv2D(128,(3, 3), activation='relu', padding= 'same'))\n",
    "model.add(UpSampling2D((2, 2)))\n",
    "model.add(Conv2D(64,(3, 3), activation='relu', padding= 'same'))\n",
    "model.add(UpSampling2D((2, 2)))\n",
    "model.add(Conv2D(32,(3, 3), activation='relu', padding= 'same'))\n",
    "model.add(Conv2D(16,(3, 3), activation='relu', padding= 'same'))\n",
    "model.add(Conv2D(2,(3, 3), activation= LeakyReLU(alpha=0.01), padding = 'same'))\n",
    "model.add(UpSampling2D((2,2)))\n",
    "\n",
    "model.summary()"
   ]
  },
  {
   "cell_type": "markdown",
   "id": "7099c274-16a8-4ccc-ad42-95e777f63ed2",
   "metadata": {},
   "source": [
    "# Compile the Model"
   ]
  },
  {
   "cell_type": "code",
   "execution_count": null,
   "id": "83497105-a2cd-43cb-a8b8-a410186d1024",
   "metadata": {},
   "outputs": [],
   "source": [
    "model.compile(optimizer='adam', metrics = ['acc'], loss = 'mse')"
   ]
  },
  {
   "cell_type": "code",
   "execution_count": null,
   "id": "5b1523aa-2225-4653-b012-bc393b454649",
   "metadata": {},
   "outputs": [],
   "source": [
    "Model = model.fit(x_train, y_train, epochs =50, batch_size = 64, steps_per_epoch=x_train.shape[0]//64, verbose =1)"
   ]
  },
  {
   "cell_type": "markdown",
   "id": "0e5c92d3-b170-480c-92c9-96ab31d21fd6",
   "metadata": {},
   "source": [
    "# Save Model"
   ]
  },
  {
   "cell_type": "code",
   "execution_count": null,
   "id": "e50f3ff5-6b9b-4249-87c4-21af155464ed",
   "metadata": {},
   "outputs": [],
   "source": [
    "model.save(\"./ImageColorizer.h5\")"
   ]
  },
  {
   "cell_type": "code",
   "execution_count": null,
   "id": "0d01a405-9561-4e20-95ca-6ea4eeb50da3",
   "metadata": {},
   "outputs": [],
   "source": [
    "from keras.preprocessing.image import img_to_array, load_img\n",
    "img1 = []\n",
    "path = \"\"\n",
    "img = img_to_array(\n",
    "    load_img(path, target_size=(256, 256, 3))\n",
    ")/255\n",
    "\n",
    "plt.title(\"input img\")\n",
    "imshow(img)\n",
    "plt.axis(\"off\")\n",
    "plt.show()"
   ]
  },
  {
   "cell_type": "code",
   "execution_count": null,
   "id": "7e4ce5e2-fa6a-459c-a544-e68eec0d66a0",
   "metadata": {},
   "outputs": [],
   "source": [
    "img1.append(img)\n",
    "img1 = rgb2lab(img1)[:,:,:,0]\n",
    "img1 = img1.reshape(img1.shape+(1,))"
   ]
  },
  {
   "cell_type": "code",
   "execution_count": null,
   "id": "867f68a4-63ff-4aba-a924-dc0150a60ece",
   "metadata": {},
   "outputs": [],
   "source": [
    "output = model.predict(img1)\n",
    "output = output*128\n",
    "\n",
    "result = np.zeros((256, 256, 3))\n",
    "result[:,:,0] = img1[0][:,:,0]\n",
    "result[:,:,1:] = output[0]\n",
    "\n",
    "imshow(lab2rgb(result))"
   ]
  }
 ],
 "metadata": {
  "kernelspec": {
   "display_name": "Python 3 (ipykernel)",
   "language": "python",
   "name": "python3"
  },
  "language_info": {
   "codemirror_mode": {
    "name": "ipython",
    "version": 3
   },
   "file_extension": ".py",
   "mimetype": "text/x-python",
   "name": "python",
   "nbconvert_exporter": "python",
   "pygments_lexer": "ipython3",
   "version": "3.11.5"
  }
 },
 "nbformat": 4,
 "nbformat_minor": 5
}
